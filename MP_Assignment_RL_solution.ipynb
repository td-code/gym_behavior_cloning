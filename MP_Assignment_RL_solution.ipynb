{
 "cells": [
  {
   "cell_type": "markdown",
   "metadata": {
    "id": "c_bRzdowadou"
   },
   "source": [
    "# Motion Planning, Assignment 8: Q-Learning with openai gym\n",
    "\n",
    "Thao Dang, Hochschule Esslingen\n",
    "\n",
    "In this assignment you will experiment with Q learning for a classic control problem: balancing a pole on a moving cart.\n",
    "\n",
    "![cartpole.png](https://gymnasium.farama.org/_images/cart_pole.gif)"
   ]
  },
  {
   "cell_type": "markdown",
   "metadata": {
    "id": "8s23mvXNadoz"
   },
   "source": [
    "Note for solution: \n",
    "This notebook is based on https://github.com/IsaacPatole/CartPole-v0-using-Q-learning-SARSA-and-DNN/blob/master/Qlearning_for_cartpole.py"
   ]
  },
  {
   "cell_type": "markdown",
   "metadata": {
    "id": "C-1AWMGQado0"
   },
   "source": [
    "# Simulations with openai gym\n",
    "\n",
    "This assignment will utilize a famous simulation environment for testing reinforcement learning algorithms: https://gymnasium.farama.org/\n",
    "\n",
    "Pytorch will be used later, so you should run this notebook with a GPU.\n",
    "To enable GPU's in colab, select \n",
    "```bash\n",
    "\"Runtime\" > “Change runtime type” > \"T4 GPU\"\n",
    "```\n",
    "after you uploaded the notebook file to colab.\n",
    "\n",
    "## Test gymnasium environment\n",
    "\n",
    "First, upload the required additional files to colab (file symbol icon on the left side bar):\n",
    "- utils.py \n",
    "\n",
    "Then, install the necessary modules:"
   ]
  },
  {
   "cell_type": "code",
   "execution_count": null,
   "metadata": {
    "id": "8K6hNRX4ado0"
   },
   "outputs": [],
   "source": [
    "%%capture cap --no-stderr\n",
    "!pip install swig\n",
    "!pip install moviepy\n",
    "!pip install gymnasium[classic-control]"
   ]
  },
  {
   "cell_type": "markdown",
   "metadata": {
    "id": "m4MmSLgwado0"
   },
   "source": [
    "Now, let's import all relevant packages and define some import functions that help displaying videos on colab."
   ]
  },
  {
   "cell_type": "code",
   "execution_count": 1,
   "metadata": {
    "id": "238zytHoado0"
   },
   "outputs": [],
   "source": [
    "import os\n",
    "os.environ['CUBLAS_WORKSPACE_CONFIG'] = ':4096:8'\n",
    "import numpy as np\n",
    "import random\n",
    "from collections import deque\n",
    "import torch\n",
    "import gymnasium as gym\n",
    "from dataclasses import dataclass, field\n",
    "from matplotlib import pyplot as plt\n",
    "import seaborn as sns\n",
    "from tqdm.notebook import tqdm\n",
    "\n",
    "from utils import *\n",
    "\n",
    "# torch.use_deterministic_algorithms(True)\n",
    "torch.backends.cudnn.deterministic = True\n",
    "# The flag below controls whether to allow TF32 on matmul. This flag defaults to True.\n",
    "torch.backends.cuda.matmul.allow_tf32 = False\n",
    "# The flag below controls whether to allow TF32 on cuDNN. This flag defaults to True.\n",
    "torch.backends.cudnn.allow_tf32 = False\n",
    "\n",
    "# remove old video files (if any)\n",
    "if os.path.exists('output'):\n",
    "    os.system('rm -f output/*.mp4')"
   ]
  },
  {
   "cell_type": "markdown",
   "metadata": {
    "id": "NqlpqrwUado2"
   },
   "source": [
    "## The cart pole environment\n",
    "\n",
    "After everything has been set up, we are ready to try some nice simulations. Here, we will only use the cart pole environment (https://gymnasium.farama.org/environments/classic_control/cart_pole/). The description of this environment is as follows (taken from: https://github.com/Farama-Foundation/Gymnasium/blob/main/gymnasium/envs/classic_control/cartpole.py)"
   ]
  },
  {
   "cell_type": "markdown",
   "metadata": {},
   "source": [
    "> ## Description\n",
    "> \n",
    "> This environment corresponds to the version of the cart-pole problem described by Barto, Sutton, and Anderson in [\"Neuronlike Adaptive Elements That Can Solve Difficult Learning Control Problem\"](https://ieeexplore.ieee.org/document/6313077). A pole is attached by an un-actuated joint to a cart, which moves along a frictionless track. The pendulum is placed upright on the cart and the goal is to balance the pole by applying forces in the left and right direction on the cart.\n",
    ">\n",
    ">## Action Space\n",
    ">\n",
    ">The action is a `ndarray` with shape `(1,)` which can take values `{0, 1}` indicating the direction of the fixed force the cart is pushed with.\n",
    ">\n",
    ">- 0: Push cart to the left\n",
    ">- 1: Push cart to the right\n",
    ">\n",
    ">**Note**: The velocity that is reduced or increased by the applied force is not fixed and it depends on the angle the pole is pointing. The center of gravity of the pole varies the amount of energy needed to move the cart underneath it\n",
    ">\n",
    ">## Observation Space\n",
    ">\n",
    ">The observation is a `ndarray` with shape `(4,)` with the values corresponding to the following positions and velocities:\n",
    ">\n",
    ">| Num | Observation           | Min                 | Max               |\n",
    ">|-----|-----------------------|---------------------|-------------------|\n",
    ">| 0   | Cart Position         | -4.8                | 4.8               |\n",
    ">| 1   | Cart Velocity         | -Inf                | Inf               |\n",
    ">| 2   | Pole Angle            | ~ -0.418 rad (-24°) | ~ 0.418 rad (24°) |\n",
    ">| 3   | Pole Angular Velocity | -Inf                | Inf               |\n",
    ">\n",
    ">**Note:** While the ranges above denote the possible values for observation space of each element, it is not reflective of the allowed values of the state space in an unterminated episode. Particularly:\n",
    ">-  The cart x-position (index 0) can be take values between `(-4.8, 4.8)`, but the episode terminates if the cart leaves the `(-2.4, 2.4)` range.\n",
    ">-  The pole angle can be observed between  `(-.418, .418)` radians (or **±24°**), but the episode terminates if the pole angle is not in the range `(-.2095, .2095)` (or **±12°**)\n",
    ">\n",
    ">## Rewards\n",
    ">Since the goal is to keep the pole upright for as long as possible, by default, a reward of `+1` is given for every step taken, including the termination step. The default reward threshold is 500 for v1 and 200 for v0 due to the time limit on the environment.\n",
    ">\n",
    ">If `sutton_barto_reward=True`, then a reward of `0` is awarded for every non-terminating step and `-1` for the terminating step. As a result, the reward threshold is 0 for v0 and v1.\n",
    ">\n",
    ">## Starting State\n",
    ">All observations are assigned a uniformly random value in `(-0.05, 0.05)`\n",
    ">\n",
    ">## Episode End\n",
    ">The episode ends if any one of the following occurs:\n",
    ">\n",
    ">1. Termination: Pole Angle is greater than ±12°\n",
    ">2. Termination: Cart Position is greater than ±2.4 (center of the cart reaches the edge of the display)\n",
    ">3. Truncation: Episode length is greater than 500 (200 for v0)"
   ]
  },
  {
   "cell_type": "markdown",
   "metadata": {
    "id": "SCv7Wq_dado3"
   },
   "source": [
    "To run this simulation, the following class ``CartPoleBase`` may be useful. It provides two important functions:\n",
    "* ``act``: the standard policy function that generates an action from the current state data (you will overwrite this function later), and\n",
    "* ``run``: which runs and renders a simulation once ``act`` has been defined."
   ]
  },
  {
   "cell_type": "code",
   "execution_count": 2,
   "metadata": {
    "id": "nCa40ihBado3"
   },
   "outputs": [],
   "source": [
    "class CartPoleBase():\n",
    "    def __init__(self, max_steps=200):\n",
    "        \"\"\"\n",
    "        The constructor.\n",
    "        max_steps is the max number of steps to take (given that the trial does not fail before)\n",
    "        \"\"\"\n",
    "        self.max_steps = max_steps\n",
    "        self.env = gym.make('CartPole-v1', render_mode = \"rgb_array\")\n",
    "        self.env = RenderFrame(self.env, \"./output\")\n",
    "        \n",
    "        \n",
    "    def act(self, observation, reward, done):\n",
    "        \"\"\"\n",
    "        A very simple agent that randomly chooses an action.\n",
    "        \n",
    "        Arguments (everything the simulator provides): \n",
    "            observation: the observed state (Cart Position, Cart Velocity, Pole Angle, \n",
    "                         Pole Angular Velocity)\n",
    "            reward:      1 for every step taken\n",
    "            done:        true if simulation terminated\n",
    "    \n",
    "        Return:\n",
    "            0 to push cart to the left, 1 to push cart to the right\n",
    "        \"\"\"\n",
    "        assert False, \"not implemented yet\"\n",
    "        return 0 \n",
    "        \n",
    "\n",
    "    def run(self):\n",
    "        \"\"\"Runs an episode while displaying the cartpole environment.\"\"\"\n",
    "        t = 0\n",
    "        reward = 0\n",
    "        done = False\n",
    "        obs, _ = self.env.reset()\n",
    "        \n",
    "        while t < self.max_steps:\n",
    "            t = t+1\n",
    "            action = self.act(obs, reward, done)\n",
    "            obs, reward, terminated, truncated, _ = self.env.step(action)\n",
    "                \n",
    "            if terminated or truncated:\n",
    "                break\n",
    "        \n",
    "        self.env.release()\n",
    "        self.env.play()\n",
    "        return t\n",
    "    "
   ]
  },
  {
   "cell_type": "markdown",
   "metadata": {
    "id": "p4ItpmPDado3"
   },
   "source": [
    "# Exercise 1: Random policy\n",
    "\n",
    "Let's first try everything we have installed so far by running an agent that chooses actions at random and render the scene. You will only have to add one line here."
   ]
  },
  {
   "cell_type": "code",
   "execution_count": 3,
   "metadata": {
    "id": "wNNPPtYlado3"
   },
   "outputs": [],
   "source": [
    "class CartPoleRandom(CartPoleBase):\n",
    "    def act(self, observation, reward, done):\n",
    "        \"\"\"\n",
    "        A very simple agent that randomly chooses an action.\n",
    "        \n",
    "        Arguments (everything the simulator provides): \n",
    "            observation: the observed state (Cart Position, Cart Velocity, Pole Angle, \n",
    "                         Pole Angular Velocity)\n",
    "            reward:      1 for every step taken\n",
    "            done:        true if simulation terminated\n",
    "    \n",
    "        Return:\n",
    "            0 to push cart to the left, 1 to push cart to the right\n",
    "        \"\"\"\n",
    "        ## TODO: Add your code here \n",
    "        return self.env.action_space.sample()"
   ]
  },
  {
   "cell_type": "code",
   "execution_count": 4,
   "metadata": {
    "colab": {
     "base_uri": "https://localhost:8080/",
     "height": 438
    },
    "id": "kh0d5SX1ado4",
    "outputId": "7c8c632f-d646-43c3-da1a-89ee0efc7420"
   },
   "outputs": [
    {
     "data": {
      "text/html": [
       "<video controls  >\n",
       " <source src=\"data:video/mp4;base64,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\" type=\"video/mp4\">\n",
       " Your browser does not support the video tag.\n",
       " </video>"
      ],
      "text/plain": [
       "<IPython.core.display.Video object>"
      ]
     },
     "metadata": {},
     "output_type": "display_data"
    },
    {
     "name": "stdout",
     "output_type": "stream",
     "text": [
      "Finished after 25 steps.\n"
     ]
    }
   ],
   "source": [
    "randomAgent = CartPoleRandom()\n",
    "steps_taken = randomAgent.run()\n",
    "print('Finished after %d steps.' % steps_taken)"
   ]
  },
  {
   "cell_type": "markdown",
   "metadata": {
    "id": "1UXPXWmQado4"
   },
   "source": [
    "# Exercise 2: Q-learning\n",
    "\n",
    "Next, you will use Q-learning based on the Bellmann equation as described in the lecture to find a **Q-value function** or **Q-table** that estimates the maximum expected cumulative reward achievable\n",
    "from a given (state, action) pair.\n",
    "\n",
    "A Q-table is discrete in its nature, yet the problem we are considering here is continous since the observations that we make (cart position, cart velocity, pole angle, pole angular velocity) are continous, real numbers. To still be able to use Q-learning, we need to **discretize** our system. This is done by quantisation of all observations in separate buckets (or bins) and refering to them by the index of the bucket in which they belong.\n",
    "E.g. if we know that cart velocity is always within the range -0.5..0.5 and we want to use four bins for discretization, we could transform the real-valued cart velocity $v$ to a discrete value $v_d=0$ if $v < -0.25$, to $v_d=1$ if $-0.25 \\leq v < 0$, to $v_d=2$ if $0 \\leq v < 0.25$, and to $v_d=3$ if $v \\geq 0.5$. Using such a discretization, our cart pole problem becomes computationally tractable for the Q-learning algorithm.  \n",
    "\n",
    "The Q-learning algorithm that you will implement here is a slightly modified version from the algorithm given in the lecture:\n",
    "\n",
    "> **Given**: rewards $r$, discount factor $\\gamma$, learning rate $\\alpha$, probability threshold $\\epsilon$\n",
    ">\n",
    "> **Algorithm**:\n",
    "> 1. Initialize Q-table to zero.\n",
    "> 2. For each episode (a.k.a. training session):\n",
    ">> 3. Select (random) initial state $s_t$.\n",
    ">> 4. Do while the goal state hasn't been reached:\n",
    ">>> 5. If random number $p<\\epsilon$: Randomly select one action $a_t$ among all possible actions for the current state $s_t$. Otherwise: Select best action based on current Q-table. Both actions result in next state $s_{t+1}$.\n",
    ">>> 6. Update expected cumulative reward: $$Q(s_t, a_t) \\leftarrow (1−\\alpha) 𝑄(s_t, a_t) + \\alpha \\left[ r(s_t, a_t) + \\gamma max_{a}⁡ \\{ Q(s_{t+1}, a) \\} \\right]$$\n",
    ">>> 7. Set the next state as the current state $s_t \\leftarrow s_{t+1}$"
   ]
  },
  {
   "cell_type": "markdown",
   "metadata": {
    "id": "leGTPpEUado4"
   },
   "source": [
    "## Exercise 2.1: Algorithm\n",
    "\n",
    "What is the major difference between the algorithm shown above and the version presented in the lecture. What are potential reasons behind this modification?\n",
    "\n",
    "In the algorithm above, it is common to adapt the learning rate and epsilon with the episodes. How and why would you modify these parameters? "
   ]
  },
  {
   "cell_type": "markdown",
   "metadata": {
    "id": "YbQF7PKvado5"
   },
   "source": [
    "The following class is a skeleton for implemening the Q-learning algorithm."
   ]
  },
  {
   "cell_type": "code",
   "execution_count": 5,
   "metadata": {
    "id": "q_HXIjOEado5"
   },
   "outputs": [],
   "source": [
    "class CartPoleQAgent(CartPoleBase):\n",
    "    def __init__(self, num_bins=(3, 3, 6, 6), \n",
    "                 num_episodes=300, min_lr=0.1, \n",
    "                 min_epsilon=0.1, discount=1.0, decay=25):\n",
    "        \"\"\"\n",
    "        The constructor.\n",
    "        Arguments:\n",
    "            num_bins: the number of bins for discretization of all four observations\n",
    "            num_episodes: number of episodes to train\n",
    "            min_lr: minimum learning rate\n",
    "            min_epsilon: minimum epsilon value (used for sampling random actions)\n",
    "            discount: discount factor\n",
    "            decay: a decay factor used for adaptation of the learning rate and epsilon\n",
    "        \"\"\"\n",
    "        CartPoleBase.__init__(self)\n",
    "        \n",
    "        self.num_episodes = num_episodes\n",
    "        self.num_bins = num_bins\n",
    "        self.min_lr = min_lr\n",
    "        self.min_epsilon = min_epsilon\n",
    "        self.discount = discount\n",
    "        self.decay = decay\n",
    "        \n",
    "        # action-value function initialized with 0's\n",
    "        # the Q-table has shape \"num_bins[0] x num_bins[1] x num_bins[2] x num_bins[3] x 2\"\n",
    "        self.Q_table = np.zeros(self.num_bins + (self.env.action_space.n,))\n",
    "\n",
    "        # [position, velocity, angle, angular velocity]\n",
    "        self.upper_bounds = [self.env.observation_space.high[0], 0.5, self.env.observation_space.high[2], np.radians(50) / 1.]\n",
    "        self.lower_bounds = [self.env.observation_space.low[0], -0.5, self.env.observation_space.low[2], -np.radians(50) / 1.]\n",
    "        \n",
    "        # bins for discretization\n",
    "        self.bins = []\n",
    "        for low, high, num in zip(self.lower_bounds, self.upper_bounds, self.num_bins):\n",
    "            delta = (high-low)/num\n",
    "            b = [low+(i+1)*delta for i in range(num-1)]\n",
    "            self.bins.append(b)\n",
    "        \n",
    "        # book keeping of steps taken in each episode\n",
    "        self.steps = np.zeros(self.num_episodes)\n",
    "        \n",
    "\n",
    "    def discretize_state(self, obs):\n",
    "        \"\"\"\n",
    "        Takes an observation of the environment and aliases it.\n",
    "        By doing this, very similar observations can be treated\n",
    "        as the same and it reduces the state space so that the \n",
    "        Q-table can be smaller and more easily filled.\n",
    "        \n",
    "        Input:\n",
    "        obs (tuple): Tuple containing 4 floats describing the current\n",
    "                     state of the environment.\n",
    "        \n",
    "        Output:\n",
    "        discretized (tuple): Tuple containing 4 non-negative integers smaller \n",
    "                             than n where n is the number in the same position\n",
    "                             in the num_bins list.\n",
    "        \"\"\"\n",
    "        discretized = list()\n",
    "        for i in range(len(obs)):\n",
    "            new_obs = np.digitize(obs[i], self.bins[i])\n",
    "            discretized.append(new_obs)\n",
    "        \n",
    "        return tuple(discretized)\n",
    "\n",
    "\n",
    "    def decay_function(self, t, min_val):\n",
    "        \"\"\"\n",
    "        A decay function for modelling learning rate and epsilon in training function.\n",
    "        Arguments:\n",
    "            t: num epochs\n",
    "            min_val: returned decay value is never smaller than this\n",
    "        \"\"\"\n",
    "        return max(min_val, min(1., 1. - np.log10((t + 1) / self.decay)))\n",
    "\n",
    "    \n",
    "    def train(self):\n",
    "        \"\"\"\n",
    "        Implements the Q-learning algorithm as described in the text above.\n",
    "        \"\"\"\n",
    "        # pause video generation\n",
    "        self.env.pause()\n",
    "        \n",
    "        # Looping for each episode\n",
    "        for e in tqdm(range(self.num_episodes)):\n",
    "            # Initializes the state\n",
    "            current_state = self.discretize_state(self.env.reset()[0])\n",
    "\n",
    "            # decaying learning rate and epsilon \n",
    "            self.learning_rate = self.decay_function(e, self.min_lr)\n",
    "            self.epsilon = self.decay_function(e, self.min_epsilon)\n",
    "            \n",
    "            # Looping for each step\n",
    "            while True:\n",
    "                self.steps[e] += 1\n",
    "                \n",
    "                ## TODO: Add your code here\n",
    "                \n",
    "                # choose action from state\n",
    "                if (np.random.random() < self.epsilon):\n",
    "                    action = self.env.action_space.sample() \n",
    "                else:\n",
    "                    action = np.argmax(self.Q_table[current_state])\n",
    "        \n",
    "                # Take action\n",
    "                obs, reward, terminated, truncated, _ = self.env.step(action)\n",
    "                new_state = self.discretize_state(obs)\n",
    "                \n",
    "                # Update Q(S,A)\n",
    "                self.Q_table[current_state][action] = (1-self.learning_rate) * self.Q_table[current_state][action] + \\\n",
    "                    self.learning_rate * (reward + self.discount * np.max(self.Q_table[new_state]))\n",
    "                \n",
    "                current_state = new_state\n",
    "                \n",
    "                # We break out of the loop when done:\n",
    "                if terminated or truncated:\n",
    "                    break\n",
    "        print('Finished training!')\n",
    "        \n",
    "        # resume video generation\n",
    "        self.env.resume()\n",
    "        \n",
    "    \n",
    "    def plot_learning(self):\n",
    "        \"\"\"\n",
    "        Plots the number of steps at each episode and prints the\n",
    "        amount of times that an episode was successfully completed.\n",
    "        \"\"\"\n",
    "        sns.lineplot(x=range(len(self.steps)), y=self.steps)\n",
    "        plt.xlabel(\"Episode\")\n",
    "        plt.ylabel(\"Steps\")\n",
    "        plt.show()\n",
    "        t = 0\n",
    "        for i in range(self.num_episodes):\n",
    "            if self.steps[i] >= self.max_steps-1:\n",
    "                t+=1\n",
    "        print(t, \" episodes were successfully completed.\")\n",
    "        \n",
    "        \n",
    "    def act(self, observation, reward, done):\n",
    "        \"\"\"\n",
    "        A Q-learning based agent.\n",
    "        \n",
    "        Arguments (everything the simulator provides): \n",
    "            observation: the observed state (Cart Position, Cart Velocity, Pole Angle, \n",
    "                         Pole Angular Velocity)\n",
    "            reward:      1 for every step taken\n",
    "            done:        true if simulation terminated\n",
    "    \n",
    "        Return:\n",
    "            0 to push cart to the left, 1 to push cart to the right\n",
    "        \"\"\"\n",
    "        \n",
    "        ## TODO: Add your code here\n",
    "        state = self.discretize_state(observation)\n",
    "        return np.argmax(self.Q_table[state])"
   ]
  },
  {
   "cell_type": "markdown",
   "metadata": {
    "id": "ugkmBiKdado8"
   },
   "source": [
    "## Exercise 2.2: Training\n",
    "\n",
    "Implement the ``train`` function above and run the training using the code below."
   ]
  },
  {
   "cell_type": "code",
   "execution_count": 6,
   "metadata": {
    "colab": {
     "base_uri": "https://localhost:8080/",
     "height": 313
    },
    "id": "_iqmA2Trado9",
    "outputId": "32bf65e0-0522-4a54-c8c5-ce4f5b41e826"
   },
   "outputs": [
    {
     "data": {
      "application/vnd.jupyter.widget-view+json": {
       "model_id": "deff584b6a1149df8f78b1e66b46f401",
       "version_major": 2,
       "version_minor": 0
      },
      "text/plain": [
       "  0%|          | 0/300 [00:00<?, ?it/s]"
      ]
     },
     "metadata": {},
     "output_type": "display_data"
    },
    {
     "name": "stdout",
     "output_type": "stream",
     "text": [
      "Finished training!\n"
     ]
    },
    {
     "data": {
      "image/png": "[encoded data removed]",
      "text/plain": [
       "<Figure size 640x480 with 1 Axes>"
      ]
     },
     "metadata": {},
     "output_type": "display_data"
    },
    {
     "name": "stdout",
     "output_type": "stream",
     "text": [
      "4  episodes were successfully completed.\n"
     ]
    }
   ],
   "source": [
    "agent = CartPoleQAgent()\n",
    "agent.train()\n",
    "agent.plot_learning()"
   ]
  },
  {
   "cell_type": "markdown",
   "metadata": {
    "id": "jsQFxEJhado-"
   },
   "source": [
    "## Exercise 2.3: Evaluation\n",
    "\n",
    "Implement the ``act`` function above and see how your trained policy performs.\n",
    "\n",
    "Try modifying the hyperparameters (learning rate, epsilon, ...) of the algorithm and compare performances."
   ]
  },
  {
   "cell_type": "code",
   "execution_count": 7,
   "metadata": {
    "colab": {
     "base_uri": "https://localhost:8080/",
     "height": 438
    },
    "id": "rP6Ok0Sbado-",
    "outputId": "58c0abdc-ffca-418f-9aee-ddfa59e59c1c"
   },
   "outputs": [
    {
     "data": {
      "text/html": [
       "<video controls  >\n",
       " <source src=\"data:video/mp4;base64,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\" type=\"video/mp4\">\n",
       " Your browser does not support the video tag.\n",
       " </video>"
      ],
      "text/plain": [
       "<IPython.core.display.Video object>"
      ]
     },
     "metadata": {},
     "output_type": "display_data"
    },
    {
     "name": "stdout",
     "output_type": "stream",
     "text": [
      "Finished after 56 steps.\n"
     ]
    }
   ],
   "source": [
    "steps_taken = agent.run()\n",
    "print('Finished after %d steps.' % steps_taken)"
   ]
  },
  {
   "cell_type": "markdown",
   "metadata": {
    "id": "jg5wuFfWado-"
   },
   "source": [
    "# Exercise 3: Deep Q-learning (optional)\n",
    "\n",
    "As an optional exercise, you can study a deep Q-network as an alternative solution to the cart pole problem.\n",
    "\n",
    "A Q-network does not require a discretization of the state space, but as you will see, it can take quite a while to learn. You can try to run the following code in Colab and even use a GPU for training.\n",
    "\n",
    "The code below has been adapted from [here](https://github.com/PacktPublishing/Advanced-Deep-Learning-with-Keras/blob/master/chapter9-drl/dqn-cartpole-9.6.1.py). It uses two \"tricks\" that are helpful when training a deep Q-network:\n",
    "\n",
    "1. **Replay memory**: As decribed in the lecture slides, learning from batches of consecutive simulation samples is problematic: Consecutive samples in time are presumably highly correlated. This correlation in training batches leads to inefficient training and may bias the result. To deal with this problem, it is advisable to establish a replay memory and then sample (non-consecutive) state-action data points from this memory.\n",
    "\n",
    "2. **Target networks**: In Q-Learning, we update \"a guess with a guess\" which can lead to unstable results. The Bellman equation defines a relationship between Q(s(t), a(t)) and Q(s(t+1), a(t+1)). Altering Q(s(t), a(t)) may influence Q(s(t+1), a(t+1)) and other states nearby, leading to fluctuations in the training results. To overcome this effect, a copy of the network is used to compute Q(s(t+1), a(t+1)). This copy is not trained, but only periodically synced to the main network.\n",
    "\n",
    "More information on both measures can be found [here](https://towardsdatascience.com/deep-q-network-dqn-ii-b6bf911b6b2c).\n",
    "\n",
    "Study the code below and add a three layer fully connected network (each layer with 256 nodes and ReLU activation). \n",
    "Find the replay memory and target network implementations. Run the network (this may take a while, you may start with smaller networks at first), and check the results of the network.\n"
   ]
  },
  {
   "cell_type": "code",
   "execution_count": 8,
   "metadata": {},
   "outputs": [
    {
     "name": "stdout",
     "output_type": "stream",
     "text": [
      "DeepQLearningNetwork(\n",
      "  (layers): Sequential(\n",
      "    (0): Linear(in_features=4, out_features=256, bias=True)\n",
      "    (1): ReLU()\n",
      "    (2): Linear(in_features=256, out_features=256, bias=True)\n",
      "    (3): ReLU()\n",
      "    (4): Linear(in_features=256, out_features=256, bias=True)\n",
      "    (5): ReLU()\n",
      "    (6): Linear(in_features=256, out_features=2, bias=True)\n",
      "  )\n",
      ")\n"
     ]
    }
   ],
   "source": [
    "# setting device on GPU if available, else CPU\n",
    "device = torch.device('cuda' if torch.cuda.is_available() else 'cpu')\n",
    "\n",
    "class DeepQLearningNetwork(torch.nn.Module):\n",
    "    def __init__(self, action_space, observation_space):\n",
    "        \"\"\"\n",
    "        Implementation of the network layers.\n",
    "        \"\"\"\n",
    "        super().__init__()\n",
    "                \n",
    "        self.n_inputs = observation_space.shape[0]\n",
    "        self.n_outputs = action_space.n\n",
    "        \n",
    "        # TODO: Add your code here\n",
    "        # Start with a simple network with 3 hidden layers of 256 neurons each and add ReLU activation functions\n",
    "        self.layers = torch.nn.Sequential(\n",
    "            torch.nn.Linear(self.n_inputs, 256),\n",
    "            torch.nn.ReLU(),\n",
    "            torch.nn.Linear(256, 256),\n",
    "            torch.nn.ReLU(),\n",
    "            torch.nn.Linear(256, 256),\n",
    "            torch.nn.ReLU(),\n",
    "            torch.nn.Linear(256, self.n_outputs)\n",
    "        ).to(device)\n",
    "\n",
    "    def forward(self, observation):\n",
    "        \"\"\"\n",
    "        The forward pass of the network. Returns the prediction for the given\n",
    "        input observation.\n",
    "        observation:   torch.Tensor of size (batch_size, n_inputs)\n",
    "        return         torch.Tensor of size (batch_size, n_outputs)\n",
    "        \"\"\"\n",
    "        batch_size = observation.shape[0]\n",
    "\n",
    "         # TODO: Add your code here\n",
    "        obs = observation.reshape(batch_size, self.n_inputs)\n",
    "        return self.layers(obs)\n",
    "\n",
    "    def scores_to_action(self, scores):\n",
    "        \"\"\"\n",
    "        Maps the scores predicted by the network to an action-class.\n",
    "        scores:         python list of torch.Tensors of size n_outputs\n",
    "        return          0 to push cart to the left, 1 to push cart to the right\n",
    "        \"\"\"\n",
    "        _, class_number = torch.max(scores[0], dim=0)  \n",
    "        return class_number\n",
    "\n",
    "    \n",
    "print(DeepQLearningNetwork(action_space=agent.env.action_space, observation_space=agent.env.observation_space))"
   ]
  },
  {
   "cell_type": "code",
   "execution_count": 59,
   "metadata": {},
   "outputs": [],
   "source": [
    "class DQNAgent(CartPoleBase):\n",
    "    def __init__(self, num_episodes=500):\n",
    "        \"\"\"DQN Agent on CartPole-v0 environment\n",
    "\n",
    "        Arguments:\n",
    "            num_episodes (int): max number of episodes to train\n",
    "        \"\"\"\n",
    "        CartPoleBase.__init__(self)\n",
    "       \n",
    "        self.num_episodes = num_episodes \n",
    "        self.action_space = self.env.action_space\n",
    "\n",
    "        # experience buffer\n",
    "        self.memory = []\n",
    "\n",
    "        # discount rate\n",
    "        self.gamma = 0.9\n",
    "\n",
    "        # initially 90% exploration, 10% exploitation\n",
    "        self.epsilon = 1.0\n",
    "        # iteratively applying decay til \n",
    "        # 10% exploration/90% exploitation\n",
    "        self.epsilon_min = 0.1\n",
    "        self.epsilon_decay = self.epsilon_min / self.epsilon\n",
    "        self.epsilon_decay = self.epsilon_decay ** (1. / float(500))\n",
    "\n",
    "        # Q Network weights filename\n",
    "        self.weights_file = \"agent.pth\"\n",
    "        \n",
    "        # Q Network for training\n",
    "        self.q_model = DeepQLearningNetwork(action_space=agent.env.action_space, observation_space=agent.env.observation_space)\n",
    "\n",
    "        self.learning_rate = 0.001\n",
    "        self.optimizer = torch.optim.Adam(self.q_model.parameters(), lr=self.learning_rate)\n",
    "        self.loss_fn = torch.nn.MSELoss()\n",
    "\n",
    "        # target Q Network\n",
    "        self.target_q_model = DeepQLearningNetwork(action_space=agent.env.action_space, observation_space=agent.env.observation_space)\n",
    "        # copy Q Network params to target Q Network\n",
    "        self.update_weights()\n",
    "\n",
    "        self.replay_counter = 0\n",
    "\n",
    "    def save_weights(self):\n",
    "        \"\"\"save Q Network params to a file\"\"\"\n",
    "        torch.save(self.q_model, self.weights_file)\n",
    "        \n",
    "    def load_weights(self):\n",
    "        \"\"\"load Q Network params to a file\"\"\"\n",
    "        self.q_model = torch.load(self.weights_file, map_location=device)        \n",
    "        \n",
    "    def update_weights(self):\n",
    "        \"\"\"copy trained Q Network params to target Q Network\"\"\"\n",
    "        self.target_q_model.load_state_dict(self.q_model.state_dict())\n",
    "        \n",
    "    def remember(self, state, action, reward, next_state, done):\n",
    "        \"\"\"store experiences in the replay buffer\n",
    "        Arguments:\n",
    "            state (tensor): env state\n",
    "            action (tensor): agent action\n",
    "            reward (float): reward received after executing action on state\n",
    "            next_state (tensor): next state\n",
    "        \"\"\"\n",
    "        item = (state, action, reward, next_state, done)\n",
    "        self.memory.append(item)\n",
    "\n",
    "    def get_target_q_value(self, next_state, reward):\n",
    "        \"\"\"compute Q_max\n",
    "           Use of target Q Network solves the non-stationarity problem\n",
    "        Arguments:\n",
    "            reward (float): reward received after executing  action on state\n",
    "            next_state (tensor): next state\n",
    "        Return:\n",
    "            q_value (float): max Q-value computed\n",
    "        \"\"\"\n",
    "        # max Q value among next state's actions\n",
    "        # DQN chooses the max Q value among next actions\n",
    "        # selection and evaluation of action is on the target Q Network\n",
    "        # Q_max = max_a' Q_target(s', a')\n",
    "        q_values = self.target_q_model(torch.Tensor(next_state).to(device))\n",
    "        q_value = torch.max(q_values).item()\n",
    "\n",
    "        # Q_max = reward + gamma * Q_max\n",
    "        q_value *= self.gamma\n",
    "        q_value += reward\n",
    "        return q_value\n",
    "\n",
    "    def replay(self, batch_size):\n",
    "        \"\"\"experience replay addresses the correlation issue between samples\n",
    "        Arguments:\n",
    "            batch_size (int): replay buffer batch sample size\n",
    "        \"\"\"\n",
    "        # sars = state, action, reward, state' (next_state)\n",
    "        sars_batch = random.sample(self.memory, batch_size)\n",
    "        state_batch, q_values_batch = [], []\n",
    "\n",
    "        # fixme: for speedup, this could be done on the tensor level\n",
    "        # but easier to understand using a loop\n",
    "        for state, action, reward, next_state, done in sars_batch:\n",
    "            # policy prediction for a given state\n",
    "            q_values = self.target_q_model(torch.Tensor(state).to(device))\n",
    "\n",
    "            # get Q_max\n",
    "            q_value = self.get_target_q_value(next_state, reward)\n",
    "\n",
    "            # correction on the Q value for the action used\n",
    "            q_values[0][action] = reward if done else q_value\n",
    "\n",
    "            # collect batch state-q_value mapping\n",
    "            state_batch.append(torch.tensor(state).to(device))\n",
    "            q_values_batch.append(torch.tensor(q_values).to(device))\n",
    "\n",
    "        # train the Q-network\n",
    "        self.q_model.train()\n",
    "        batch_in = torch.reshape(torch.cat(state_batch, dim=0), (-1, self.q_model.n_inputs))\n",
    "        batch_gt = torch.reshape(torch.cat(q_values_batch, dim=0), (-1, self.q_model.n_outputs))\n",
    "\n",
    "        assert batch_in.shape[0] == batch_size\n",
    "        assert batch_in.shape[1] == self.q_model.n_inputs\n",
    "        assert batch_gt.shape[0] == batch_size\n",
    "        assert batch_gt.shape[1] == self.q_model.n_outputs\n",
    "        \n",
    "        batch_out = self.q_model(batch_in)\n",
    "        loss = self.loss_fn(batch_out, batch_gt)\n",
    "\n",
    "        self.optimizer.zero_grad()\n",
    "        loss.backward()\n",
    "        self.optimizer.step()\n",
    "        self.q_model.eval()\n",
    "\n",
    "        # update exploration-exploitation probability\n",
    "        self.update_epsilon()\n",
    "\n",
    "        # copy new params on old target after every 10 training updates\n",
    "        if self.replay_counter % 10 == 0:\n",
    "            self.update_weights()\n",
    "\n",
    "        self.replay_counter += 1\n",
    "\n",
    "    \n",
    "    def update_epsilon(self):\n",
    "        \"\"\"decrease the exploration, increase exploitation\"\"\"\n",
    "        if self.epsilon > self.epsilon_min:\n",
    "            self.epsilon *= self.epsilon_decay\n",
    "        \n",
    "        \n",
    "    def train(self):\n",
    "        # pause video generation\n",
    "        self.env.pause()\n",
    "        \n",
    "        # the number of trials without falling over\n",
    "        win_trials = 100\n",
    "\n",
    "        # the CartPole is considered solved if \n",
    "        # for 100 consecutive trials, he cart pole has not \n",
    "        # fallen over and it has achieved an average \n",
    "        # reward of 195.0 \n",
    "        # a reward of +1 is provided for every timestep \n",
    "        # the pole remains upright\n",
    "        win_reward = 195.0\n",
    "\n",
    "        # stores the reward per episode\n",
    "        scores = deque(maxlen=win_trials)\n",
    "\n",
    "        state, _ = self.env.reset(seed=0)\n",
    "\n",
    "        # should be solved in this number of episodes\n",
    "        episode_count = self.num_episodes\n",
    "        state_size = self.env.observation_space.shape[0]\n",
    "        batch_size = 64\n",
    "        \n",
    "        self.q_model.eval()\n",
    "\n",
    "        # by default, CartPole-v0 has max episode steps = 200\n",
    "        # you can use this to experiment beyond 200\n",
    "        # env._max_episode_steps = 4000\n",
    "\n",
    "        # Q-Learning sampling and fitting\n",
    "        for episode in tqdm(range(episode_count)):\n",
    "            state, _ = self.env.reset()\n",
    "            state = np.reshape(state, [1, state_size])\n",
    "            done = False\n",
    "            total_reward = 0\n",
    "            while not done:\n",
    "                # in CartPole-v1, action=0 is left and action=1 is right\n",
    "                if np.random.rand() < self.epsilon:\n",
    "                    # explore - do random action\n",
    "                    action = self.action_space.sample()\n",
    "                else:\n",
    "                    # exploit\n",
    "                    q_values = self.q_model(torch.Tensor(state).to(device))\n",
    "                    # select the action with max Q-value\n",
    "                    action = torch.argmax(q_values, dim=1).item()\n",
    "                \n",
    "                next_state, reward, terminated, truncated, _ = self.env.step(action)\n",
    "                done = terminated or truncated\n",
    "                \n",
    "                # in CartPole-v1:\n",
    "                # state = [pos, vel, theta, angular speed]\n",
    "                next_state = np.reshape(next_state, [1, state_size])\n",
    "                # store every experience unit in replay buffer\n",
    "                self.remember(state, action, reward, next_state, done)\n",
    "                state = next_state\n",
    "                total_reward += reward\n",
    "\n",
    "\n",
    "            # call experience replay\n",
    "            if len(self.memory) >= batch_size:\n",
    "                self.replay(batch_size)\n",
    "\n",
    "            scores.append(total_reward)\n",
    "            mean_score = np.mean(scores)\n",
    "            if mean_score >= win_reward and episode >= win_trials:\n",
    "                print(\"Solved in episode %d: Mean survival = %0.2lf in %d episodes\" % (episode, mean_score, win_trials))\n",
    "                print(\"Epsilon: \", self.epsilon)\n",
    "                break\n",
    "            if (episode + 1) % win_trials == 0:\n",
    "                tqdm.write(\"Episode %d: Mean survival = %0.2lf in %d episodes\" %  ((episode + 1), mean_score, win_trials))\n",
    "\n",
    "        # close the env \n",
    "        self.env.close()\n",
    "        \n",
    "        # resume video generation\n",
    "        self.env.resume()         \n",
    "        \n",
    "        \n",
    "    def act(self, observation, reward, done):\n",
    "        \"\"\"\n",
    "        An deep Q-learning based agent.\n",
    "        \n",
    "        Arguments (everything the simulator provides): \n",
    "            observation: the observed state (Cart Position, Cart Velocity, Pole Angle, \n",
    "                         Pole Angular Velocity)\n",
    "            reward:      1 for every step taken\n",
    "            done:        true if simulation terminated\n",
    "    \n",
    "        Return:\n",
    "            0 to push cart to the left, 1 to push cart to the right\n",
    "        \"\"\"\n",
    "        state_size = self.env.observation_space.shape[0]\n",
    "        state = np.reshape(observation, [1, state_size])\n",
    "        q_values = self.target_q_model(torch.Tensor(state).to(device))\n",
    "        # select the action with max Q-value\n",
    "        action = torch.argmax(q_values, dim=1).item()\n",
    "        return action\n"
   ]
  },
  {
   "cell_type": "markdown",
   "metadata": {},
   "source": [
    "Run training untill either a max number of iterations is reached or until the performance in the last 100 trials was good enough. You may need to adjust the max number of iterations."
   ]
  },
  {
   "cell_type": "code",
   "execution_count": 60,
   "metadata": {},
   "outputs": [
    {
     "data": {
      "application/vnd.jupyter.widget-view+json": {
       "model_id": "d9c4a89964c44aadaebf310e98c76aaf",
       "version_major": 2,
       "version_minor": 0
      },
      "text/plain": [
       "  0%|          | 0/500 [00:00<?, ?it/s]"
      ]
     },
     "metadata": {},
     "output_type": "display_data"
    },
    {
     "name": "stdout",
     "output_type": "stream",
     "text": [
      "Episode 100: Mean survival = 24.94 in 100 episodes\n",
      "Episode 200: Mean survival = 39.46 in 100 episodes\n",
      "Episode 300: Mean survival = 182.47 in 100 episodes\n",
      "Solved in episode 304: Mean survival = 195.07 in 100 episodes\n",
      "Epsilon:  0.2500345361696452\n"
     ]
    }
   ],
   "source": [
    "dqnagent = DQNAgent()\n",
    "dqnagent.train()\n",
    "dqnagent.save_weights()"
   ]
  },
  {
   "cell_type": "markdown",
   "metadata": {},
   "source": [
    "Finally, run sample trials with the trained network:"
   ]
  },
  {
   "cell_type": "code",
   "execution_count": 61,
   "metadata": {
    "id": "Tj8WYH2piBq2"
   },
   "outputs": [
    {
     "data": {
      "text/html": [
       "<video controls  >\n",
       " <source src=\"data:video/mp4;base64,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\" type=\"video/mp4\">\n",
       " Your browser does not support the video tag.\n",
       " </video>"
      ],
      "text/plain": [
       "<IPython.core.display.Video object>"
      ]
     },
     "metadata": {},
     "output_type": "display_data"
    },
    {
     "name": "stdout",
     "output_type": "stream",
     "text": [
      "Finished after 200 steps.\n"
     ]
    }
   ],
   "source": [
    "dqnagent.load_weights()\n",
    "dqnagent.update_weights()\n",
    "steps_taken = dqnagent.run()\n",
    "print('Finished after %d steps.' % steps_taken)"
   ]
  }
 ],
 "metadata": {
  "accelerator": "GPU",
  "colab": {
   "collapsed_sections": [],
   "name": "MP_Assignment7_solution.ipynb",
   "provenance": [],
   "toc_visible": true
  },
  "kernelspec": {
   "display_name": "behavior-cloning",
   "language": "python",
   "name": "behavior-cloning"
  },
  "language_info": {
   "codemirror_mode": {
    "name": "ipython",
    "version": 3
   },
   "file_extension": ".py",
   "mimetype": "text/x-python",
   "name": "python",
   "nbconvert_exporter": "python",
   "pygments_lexer": "ipython3",
   "version": "3.10.9"
  }
 },
 "nbformat": 4,
 "nbformat_minor": 1
}
