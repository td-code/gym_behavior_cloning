{
 "cells": [
  {
   "cell_type": "markdown",
   "metadata": {
    "id": "c_bRzdowadou"
   },
   "source": [
    "# Motion Planning, Assignment 8: Q-Learning with openai gym\n",
    "\n",
    "Thao Dang, Hochschule Esslingen\n",
    "\n",
    "In this assignment you will experiment with Q learning for a classic control problem: balancing a pole on a moving cart.\n",
    "\n",
    "![cartpole.png](https://drive.google.com/uc?id=1b9GxE9zRkxPCBX-D-LfrIrbehNZdjP4J)"
   ]
  },
  {
   "cell_type": "markdown",
   "metadata": {
    "id": "8s23mvXNadoz"
   },
   "source": [
    "Note for solution: \n",
    "This notebook is based on https://github.com/IsaacPatole/CartPole-v0-using-Q-learning-SARSA-and-DNN/blob/master/Qlearning_for_cartpole.py"
   ]
  },
  {
   "cell_type": "markdown",
   "metadata": {
    "id": "C-1AWMGQado0"
   },
   "source": [
    "# Simulations with openai gym\n",
    "\n",
    "This assignment will utilize a famous simulation environment for testing reinforcement learning algorithms: http://gym.openai.com\n",
    "\n",
    "## Installation\n",
    "\n",
    "If you are using Anaconda or Miniconda and a **Mac or a Unix machine**, installation is rather straightforward. Just create the following environment and you should be good to go:\n",
    "```\n",
    "    conda create --name gym python=3.7\n",
    "    conda activate gym\n",
    "\n",
    "    conda install conda matplotlib seaborn\n",
    "    conda install -c conda-forge jupyter_contrib_nbextensions gym-all\n",
    "    conda install -c anaconda tensorflow\n",
    "    \n",
    "    jupyter notebook\n",
    "```\n",
    "\n",
    "If you are using **Windows**, you may have to additionally have to install other libraries as described [here](https://towardsdatascience.com/how-to-install-openai-gym-in-a-windows-environment-338969e24d30) (but I haven't tried this and can't support).\n",
    "\n",
    "When running in **Colab**, just transform the following cell to code and execute it:"
   ]
  },
  {
   "cell_type": "markdown",
   "metadata": {
    "id": "8K6hNRX4ado0"
   },
   "source": [
    "!pip install gym pyvirtualdisplay > /dev/null 2>&1\n",
    "\n",
    "!apt-get update\n",
    "\n",
    "!apt-get install -y xvfb python-opengl ffmpeg > /dev/null 2>&1"
   ]
  },
  {
   "cell_type": "markdown",
   "metadata": {
    "id": "m4MmSLgwado0"
   },
   "source": [
    "Now, let's import all relevant packages and define some import functions that help displaying videos on colab."
   ]
  },
  {
   "cell_type": "code",
   "execution_count": 1,
   "metadata": {
    "id": "238zytHoado0"
   },
   "outputs": [],
   "source": [
    "import math\n",
    "import numpy as np\n",
    "import matplotlib.pyplot as plt\n",
    "import seaborn as sns\n",
    "import gym\n",
    "from gym.wrappers import Monitor\n",
    "import glob\n",
    "import io\n",
    "import base64\n",
    "import random"
   ]
  },
  {
   "cell_type": "code",
   "execution_count": 2,
   "metadata": {
    "id": "SuYK46Ipado1"
   },
   "outputs": [
    {
     "name": "stdout",
     "output_type": "stream",
     "text": [
      "Not in Colab.\n"
     ]
    }
   ],
   "source": [
    "IN_COLAB = False\n",
    "try:\n",
    "    from google.colab import files\n",
    "    IN_COLAB = True\n",
    "except:\n",
    "    print('Not in Colab.')\n",
    "\n",
    "    \n",
    "if IN_COLAB:\n",
    "    from IPython.display import HTML\n",
    "    from pyvirtualdisplay import Display\n",
    "    from IPython import display as ipythondisplay\n",
    "\n",
    "    display = Display(visible=0, size=(1400, 900))\n",
    "    display.start()\n",
    "\n",
    "    \n",
    "    \n",
    "\"\"\"\n",
    "Utility functions to enable video recording of gym environment \n",
    "and displaying it.\n",
    "To enable video, just do \"env = wrap_env(env)\"\"\n",
    "\"\"\"\n",
    "\n",
    "\n",
    "def show_video():\n",
    "    if not IN_COLAB:\n",
    "        return\n",
    "    \n",
    "    # in colab, everything is done via video\n",
    "    mp4list = glob.glob('video/*.mp4')\n",
    "    if len(mp4list) > 0:\n",
    "        mp4 = mp4list[0]\n",
    "        video = io.open(mp4, 'r+b').read()\n",
    "        encoded = base64.b64encode(video)\n",
    "        ipythondisplay.display(HTML(data='''<video alt=\"test\" autoplay \n",
    "                loop controls style=\"height: 400px;\">\n",
    "                <source src=\"data:video/mp4;base64,{0}\" type=\"video/mp4\" />\n",
    "                </video>'''.format(encoded.decode('ascii'))))\n",
    "    else: \n",
    "        print(\"Could not find video\")\n",
    "    \n",
    "\n",
    "def wrap_env(env):\n",
    "    env = Monitor(env, './video', force=True)\n",
    "    return env"
   ]
  },
  {
   "cell_type": "markdown",
   "metadata": {
    "id": "NqlpqrwUado2"
   },
   "source": [
    "## The cart pole environment\n",
    "\n",
    "After everything has been set up, we are ready to try some nice simulations. Here, we will only use the cart pole environment (https://gym.openai.com/envs/CartPole-v1/). The description of this environment is as follows:\n",
    "```\n",
    "Description:\n",
    "    A pole is attached by an un-actuated joint to a cart, which moves along\n",
    "    a frictionless track. The pendulum starts upright, and the goal is to\n",
    "    prevent it from falling over by increasing and reducing the cart's\n",
    "    velocity.\n",
    "Source:\n",
    "    This environment corresponds to the version of the cart-pole problem\n",
    "    described by Barto, Sutton, and Anderson\n",
    "Observation:\n",
    "    Type: Box(4)\n",
    "    Num     Observation               Min                     Max\n",
    "    0       Cart Position             -4.8                    4.8\n",
    "    1       Cart Velocity             -Inf                    Inf\n",
    "    2       Pole Angle                -0.418 rad (-24 deg)    0.418 rad (24 deg)\n",
    "    3       Pole Angular Velocity     -Inf                    Inf\n",
    "Actions:\n",
    "    Type: Discrete(2)\n",
    "    Num   Action\n",
    "    0     Push cart to the left\n",
    "    1     Push cart to the right\n",
    "    Note: The amount the velocity that is reduced or increased is not\n",
    "    fixed; it depends on the angle the pole is pointing. This is because\n",
    "    the center of gravity of the pole increases the amount of energy needed\n",
    "    to move the cart underneath it\n",
    "Reward:\n",
    "    Reward is 1 for every step taken, including the termination step\n",
    "Starting State:\n",
    "    All observations are assigned a uniform random value in [-0.05..0.05]\n",
    "Episode Termination:\n",
    "    Pole Angle is more than 12 degrees.\n",
    "    Cart Position is more than 2.4 (center of the cart reaches the edge of\n",
    "    the display).\n",
    "    Episode length is greater than 200.\n",
    "    Solved Requirements:\n",
    "    Considered solved when the average return is greater than or equal to\n",
    "    195.0 over 100 consecutive trials.    \n",
    "```\n",
    "(taken from: https://github.com/openai/gym/blob/master/gym/envs/classic_control/cartpole.py)"
   ]
  },
  {
   "cell_type": "markdown",
   "metadata": {
    "id": "SCv7Wq_dado3"
   },
   "source": [
    "To run this simulation, the following class ``CartPoleBase`` may be useful. It provides two important functions:\n",
    "* ``act``: the standard policy function that generates an action from the current state data (you will overwrite this function later), and\n",
    "* ``run``: which runs and renders a simulation once ``act`` has been defined."
   ]
  },
  {
   "cell_type": "code",
   "execution_count": 3,
   "metadata": {
    "id": "nCa40ihBado3"
   },
   "outputs": [],
   "source": [
    "class CartPoleBase():\n",
    "    def __init__(self, num_episodes=500):\n",
    "        \"\"\"\n",
    "        The constructor.\n",
    "        num_episodes is the max number of steps to take (given that the trial does not fail before)\n",
    "        \"\"\"\n",
    "        self.num_episodes = num_episodes\n",
    "        self.env = gym.make('CartPole-v0')\n",
    "        \n",
    "        \n",
    "    def act(self, observation, reward, done):\n",
    "        \"\"\"\n",
    "        A very simple agent that randomly chooses an action.\n",
    "        \n",
    "        Arguments (everything the simulator provides): \n",
    "            observation: the observed state (Cart Position, Cart Velocity, Pole Angle, \n",
    "                         Pole Angular Velocity)\n",
    "            reward:      1 for every step taken\n",
    "            done:        true if simulation terminated\n",
    "    \n",
    "        Return:\n",
    "            0 to push cart to the left, 1 to push cart to the right\n",
    "        \"\"\"\n",
    "        assert False, \"not implemented yet\"\n",
    "        return 0 \n",
    "        \n",
    "\n",
    "    def run(self):\n",
    "        \"\"\"Runs an episode while displaying the cartpole environment.\"\"\"\n",
    "        self.env = wrap_env(self.env)\n",
    "        t = 0\n",
    "        reward = 0\n",
    "        done = False\n",
    "        obs = self.env.reset()\n",
    "        \n",
    "        while not done:\n",
    "                self.env.render()\n",
    "                t = t+1\n",
    "                action = self.act(obs, reward, done)\n",
    "                obs, reward, done, _ = self.env.step(action)\n",
    "                \n",
    "        self.env.close()\n",
    "        show_video()\n",
    "        return t\n",
    "    "
   ]
  },
  {
   "cell_type": "markdown",
   "metadata": {
    "id": "p4ItpmPDado3"
   },
   "source": [
    "# Exercise 1: Random policy\n",
    "\n",
    "Let's first try everything we have installed so far by running an agent that chooses actions at random and render the scene. You will only have to add one line here."
   ]
  },
  {
   "cell_type": "code",
   "execution_count": 4,
   "metadata": {
    "id": "wNNPPtYlado3"
   },
   "outputs": [],
   "source": [
    "class CartPoleRandom(CartPoleBase):\n",
    "    def act(self, observation, reward, done):\n",
    "        \"\"\"\n",
    "        A very simple agent that randomly chooses an action.\n",
    "        \n",
    "        Arguments (everything the simulator provides): \n",
    "            observation: the observed state (Cart Position, Cart Velocity, Pole Angle, \n",
    "                         Pole Angular Velocity)\n",
    "            reward:      1 for every step taken\n",
    "            done:        true if simulation terminated\n",
    "    \n",
    "        Return:\n",
    "            0 to push cart to the left, 1 to push cart to the right\n",
    "        \"\"\"\n",
    "        ## TODO: Add your code here \n",
    "        return self.env.action_space.sample()"
   ]
  },
  {
   "cell_type": "code",
   "execution_count": 5,
   "metadata": {
    "colab": {
     "base_uri": "https://localhost:8080/",
     "height": 438
    },
    "id": "kh0d5SX1ado4",
    "outputId": "7c8c632f-d646-43c3-da1a-89ee0efc7420"
   },
   "outputs": [
    {
     "name": "stdout",
     "output_type": "stream",
     "text": [
      "Finished after 45 steps.\n"
     ]
    }
   ],
   "source": [
    "randomAgent = CartPoleRandom()\n",
    "steps_taken = randomAgent.run()\n",
    "print('Finished after %d steps.' % steps_taken)"
   ]
  },
  {
   "cell_type": "markdown",
   "metadata": {
    "id": "1UXPXWmQado4"
   },
   "source": [
    "# Exercise 2: Q-learning\n",
    "\n",
    "Next, you will use Q-learning based on the Bellmann equation as described in the lecture to find a **Q-value function** or **Q-table** that estimates the maximum expected cumulative reward achievable\n",
    "from a given (state, action) pair.\n",
    "\n",
    "A Q-table is discrete in its nature, yet the problem we are considering here is continous since the observations that we make (cart position, cart velocity, pole angle, pole angular velocity) are continous, real numbers. To still be able to use Q-learning, we need to **discretize** our system. This is done by quantisation of all observations in separate buckets (or bins) and refering to them by the index of the bucket in which they belong.\n",
    "E.g. if we know that cart velocity is always within the range -0.5..0.5 and we want to use four bins for discretization, we could transform the real-valued cart velocity $v$ to a discrete value $v_d=0$ if $v < -0.25$, to $v_d=1$ if $-0.25 \\leq v < 0$, to $v_d=2$ if $0 \\leq v < 0.25$, and to $v_d=3$ if $v \\geq 0.5$. Using such a discretization, our cart pole problem becomes computationally tractable for the Q-learning algorithm.  \n",
    "\n",
    "The Q-learning algorithm that you will implement here is a slightly modified version from the algorithm given in the lecture:\n",
    "\n",
    "> **Given**: rewards $r$, discount factor $\\gamma$, learning rate $\\alpha$, probability threshold $\\epsilon$\n",
    ">\n",
    "> **Algorithm**:\n",
    "> 1. Initialize Q-table to zero.\n",
    "> 2. For each episode (a.k.a. training session):\n",
    ">> 3. Select (random) initial state $s_t$.\n",
    ">> 4. Do while the goal state hasn't been reached:\n",
    ">>> 5. If random number $p<\\epsilon$: Randomly select one action $a_t$ among all possible actions for the current state $s_t$. Otherwise: Select best action based on current Q-table. Both actions result in next state $s_{t+1}$.\n",
    ">>> 6. Update expected cumulative reward: $$Q(s_t, a_t) \\leftarrow (1−\\alpha) 𝑄(s_t, a_t) + \\alpha \\left[ r(s_t, a_t) + \\gamma max_{a}⁡ \\{ Q(s_{t+1}, a) \\} \\right]$$\n",
    ">>> 7. Set the next state as the current state $s_t \\leftarrow s_{t+1}$"
   ]
  },
  {
   "cell_type": "markdown",
   "metadata": {
    "id": "leGTPpEUado4"
   },
   "source": [
    "## Exercise 2.1: Algorithm\n",
    "\n",
    "What is the major difference between the algorithm shown above and the version presented in the lecture. What are potential reasons behind this modification?\n",
    "\n",
    "In the algorithm above, it is common to adapt the learning and epsilon with the episodes. How and why would you modify these parameters? "
   ]
  },
  {
   "cell_type": "markdown",
   "metadata": {
    "id": "YbQF7PKvado5"
   },
   "source": [
    "The following class is a skeleton for implemening the Q-learning algorithm."
   ]
  },
  {
   "cell_type": "code",
   "execution_count": 6,
   "metadata": {
    "id": "q_HXIjOEado5"
   },
   "outputs": [],
   "source": [
    "class CartPoleQAgent(CartPoleBase):\n",
    "    def __init__(self, num_bins=(3, 3, 6, 6), \n",
    "                 num_episodes=500, min_lr=0.1, \n",
    "                 min_epsilon=0.1, discount=1.0, decay=25):\n",
    "        \"\"\"\n",
    "        The constructor.\n",
    "        Arguments:\n",
    "            num_bins: the number of bins for discretization of all four observations\n",
    "            num_episodes: max number of steps to take \n",
    "            min_lr: minimum learning rate\n",
    "            min_epsilon: minimum epsilon value (used for sampling random actions)\n",
    "            discount: discount factor\n",
    "            decay: a decay factor used for adaptation of the learning rate and epsilon\n",
    "        \"\"\"\n",
    "        CartPoleBase.__init__(self, num_episodes)\n",
    "        \n",
    "        self.num_bins = num_bins\n",
    "        self.min_lr = min_lr\n",
    "        self.min_epsilon = min_epsilon\n",
    "        self.discount = discount\n",
    "        self.decay = decay\n",
    "        \n",
    "        # action-value function initialized with 0's\n",
    "        # the Q-table has shape \"num_bins[0] x num_bins[1] x num_bins[2] x num_bins[3] x 2\"\n",
    "        self.Q_table = np.zeros(self.num_bins + (self.env.action_space.n,))\n",
    "\n",
    "        # [position, velocity, angle, angular velocity]\n",
    "        self.upper_bounds = [self.env.observation_space.high[0], 0.5, self.env.observation_space.high[2], math.radians(50) / 1.]\n",
    "        self.lower_bounds = [self.env.observation_space.low[0], -0.5, self.env.observation_space.low[2], -math.radians(50) / 1.]\n",
    "        \n",
    "        # bins for discretization\n",
    "        self.bins = []\n",
    "        for low, high, num in zip(self.lower_bounds, self.upper_bounds, self.num_bins):\n",
    "            delta = (high-low)/num\n",
    "            b = [low+(i+1)*delta for i in range(num-1)]\n",
    "            self.bins.append(b)\n",
    "        \n",
    "        # book keeping of steks take in each episode\n",
    "        self.steps = np.zeros(self.num_episodes)\n",
    "        \n",
    "\n",
    "    def discretize_state(self, obs):\n",
    "        \"\"\"\n",
    "        Takes an observation of the environment and aliases it.\n",
    "        By doing this, very similar observations can be treated\n",
    "        as the same and it reduces the state space so that the \n",
    "        Q-table can be smaller and more easily filled.\n",
    "        \n",
    "        Input:\n",
    "        obs (tuple): Tuple containing 4 floats describing the current\n",
    "                     state of the environment.\n",
    "        \n",
    "        Output:\n",
    "        discretized (tuple): Tuple containing 4 non-negative integers smaller \n",
    "                             than n where n is the number in the same position\n",
    "                             in the num_bins list.\n",
    "        \"\"\"\n",
    "        discretized = list()\n",
    "        for i in range(len(obs)):\n",
    "            new_obs = np.digitize(obs[i], self.bins[i])\n",
    "            discretized.append(new_obs)\n",
    "        \n",
    "        return tuple(discretized)\n",
    "\n",
    "\n",
    "    def decay_function(self, t, min_val):\n",
    "        \"\"\"\n",
    "        A decay function for modelling learning rate and epsilon in training function.\n",
    "        Arguments:\n",
    "            t: num epochs\n",
    "            min_val: returned decay value is never smaller than this\n",
    "        \"\"\"\n",
    "        return max(min_val, min(1., 1. - math.log10((t + 1) / self.decay)))\n",
    "\n",
    "    \n",
    "    def train(self):\n",
    "        \"\"\"\n",
    "        Implements the Q-learning algorithm as described in the text above.\n",
    "        \"\"\"\n",
    "        # Looping for each episode\n",
    "        for e in range(self.num_episodes):\n",
    "            # Initializes the state\n",
    "            current_state = self.discretize_state(self.env.reset())\n",
    "\n",
    "            # decaying learning rate and epsilon \n",
    "            self.learning_rate = self.decay_function(e, self.min_lr)\n",
    "            self.epsilon = self.decay_function(e, self.min_epsilon)\n",
    "            done = False\n",
    "            \n",
    "            # Looping for each step\n",
    "            while not done:\n",
    "                self.steps[e] += 1\n",
    "                \n",
    "                ## TODO: Add your code here\n",
    "                \n",
    "                # choose action from state\n",
    "                if (np.random.random() < self.epsilon):\n",
    "                    action = self.env.action_space.sample() \n",
    "                else:\n",
    "                    action = np.argmax(self.Q_table[current_state])\n",
    "        \n",
    "                # Take action\n",
    "                obs, reward, done, _ = self.env.step(action)\n",
    "                new_state = self.discretize_state(obs)\n",
    "                \n",
    "                # Update Q(S,A)\n",
    "                self.Q_table[current_state][action] = (1-self.learning_rate) * self.Q_table[current_state][action] + \\\n",
    "                    self.learning_rate * (reward + self.discount * np.max(self.Q_table[new_state]))\n",
    "                \n",
    "                current_state = new_state\n",
    "                \n",
    "                # We break out of the loop when done is False which is\n",
    "                # a terminal state.\n",
    "        print('Finished training!')\n",
    "        \n",
    "    \n",
    "    def plot_learning(self):\n",
    "        \"\"\"\n",
    "        Plots the number of steps at each episode and prints the\n",
    "        amount of times that an episode was successfully completed.\n",
    "        \"\"\"\n",
    "        sns.lineplot(x=range(len(self.steps)), y=self.steps)\n",
    "        plt.xlabel(\"Episode\")\n",
    "        plt.ylabel(\"Steps\")\n",
    "        plt.show()\n",
    "        t = 0\n",
    "        for i in range(self.num_episodes):\n",
    "            if self.steps[i] == 200:\n",
    "                t+=1\n",
    "        print(t, \" episodes were successfully completed.\")\n",
    "        \n",
    "        \n",
    "    def act(self, observation, reward, done):\n",
    "        \"\"\"\n",
    "        A Q-learning based agent.\n",
    "        \n",
    "        Arguments (everything the simulator provides): \n",
    "            observation: the observed state (Cart Position, Cart Velocity, Pole Angle, \n",
    "                         Pole Angular Velocity)\n",
    "            reward:      1 for every step taken\n",
    "            done:        true if simulation terminated\n",
    "    \n",
    "        Return:\n",
    "            0 to push cart to the left, 1 to push cart to the right\n",
    "        \"\"\"\n",
    "        \n",
    "        ## TODO: Add your code here\n",
    "        state = self.discretize_state(observation)\n",
    "        return np.argmax(self.Q_table[state])"
   ]
  },
  {
   "cell_type": "markdown",
   "metadata": {
    "id": "ugkmBiKdado8"
   },
   "source": [
    "## Exercise 2.2: Training\n",
    "\n",
    "Implement the ``train`` function above and run the training using the code below."
   ]
  },
  {
   "cell_type": "code",
   "execution_count": 7,
   "metadata": {
    "colab": {
     "base_uri": "https://localhost:8080/",
     "height": 313
    },
    "id": "_iqmA2Trado9",
    "outputId": "32bf65e0-0522-4a54-c8c5-ce4f5b41e826"
   },
   "outputs": [
    {
     "name": "stdout",
     "output_type": "stream",
     "text": [
      "Finished training!\n"
     ]
    },
    {
     "data": {
      "image/png": "[encoded data removed]",
      "text/plain": [
       "<Figure size 432x288 with 1 Axes>"
      ]
     },
     "metadata": {
      "needs_background": "light"
     },
     "output_type": "display_data"
    },
    {
     "name": "stdout",
     "output_type": "stream",
     "text": [
      "227  episodes were successfully completed.\n"
     ]
    }
   ],
   "source": [
    "agent = CartPoleQAgent()\n",
    "agent.train()\n",
    "agent.plot_learning()"
   ]
  },
  {
   "cell_type": "markdown",
   "metadata": {
    "id": "jsQFxEJhado-"
   },
   "source": [
    "## Exercise 2.3: Evaluation\n",
    "\n",
    "Implement the ``act`` function above and see how your trained policy performs.\n",
    "\n",
    "Try modifying the hyperparameters (learning rate, epsilon, ...) of the algorithm and compare performances."
   ]
  },
  {
   "cell_type": "code",
   "execution_count": 8,
   "metadata": {
    "colab": {
     "base_uri": "https://localhost:8080/",
     "height": 438
    },
    "id": "rP6Ok0Sbado-",
    "outputId": "58c0abdc-ffca-418f-9aee-ddfa59e59c1c"
   },
   "outputs": [
    {
     "name": "stdout",
     "output_type": "stream",
     "text": [
      "Finished after 200 steps.\n"
     ]
    }
   ],
   "source": [
    "steps_taken = agent.run()\n",
    "print('Finished after %d steps.' % steps_taken)"
   ]
  },
  {
   "cell_type": "markdown",
   "metadata": {
    "id": "jg5wuFfWado-"
   },
   "source": [
    "# Exercise 3: Deep Q-learning (optional)\n",
    "\n",
    "As an optional exercise, you can study a deep Q-network as an alternative solution to the cart pole problem.\n",
    "\n",
    "A Q-network does not require a discretization of the state space, but as you will see, it can take quite a while to learn. You can try to run the following code in Colab and even use a GPU for training.\n",
    "\n",
    "The code below has been adapted from [here](https://github.com/PacktPublishing/Advanced-Deep-Learning-with-Keras/blob/master/chapter9-drl/dqn-cartpole-9.6.1.py). It uses two \"tricks\" that are helpful when training a deep Q-network:\n",
    "\n",
    "1. **Replay memory**: As decribed in the lecture slides, learning from batches of consecutive simulation samples is problematic: Consecutive samples in time are presumably highly correlated. This correlation in training batches leads to inefficient training and may bias the result. To deal with this problem, it is advisable to establish a replay memory and then sample (non-consecutive) state-action data points from this memory.\n",
    "\n",
    "2. **Target networks**: In Q-Learning, we update \"a guess with a guess\" which can lead to unstable results. The Bellman equation defines a relationship between Q(s(t), a(t)) and Q(s(t+1), a(t+1)). Altering Q(s(t), a(t)) may influence Q(s(t+1), a(t+1)) and other states nearby, leading to fluctuations in the training results. To overcome this effect, a copy of the network is used to compute Q(s(t+1), a(t+1)). This copy is not trained, but only periodically synced to the main network.\n",
    "\n",
    "More information on both measures can be found [here](https://towardsdatascience.com/deep-q-network-dqn-ii-b6bf911b6b2c).\n",
    "\n",
    "Study the code below and find the replay memory and target network implementations. Run the network (this may take a while, you may start with smaller networks at first), and check the results of the network.\n"
   ]
  },
  {
   "cell_type": "code",
   "execution_count": 9,
   "metadata": {
    "id": "U2JEvI4qado-"
   },
   "outputs": [],
   "source": [
    "from tensorflow.keras.layers import Dense, Input\n",
    "from tensorflow.keras.models import Model\n",
    "from tensorflow.keras.optimizers import Adam\n",
    "from collections import deque\n",
    "\n",
    "import numpy as np\n",
    "import random\n",
    "import gym\n",
    "from gym import wrappers\n",
    "import sys"
   ]
  },
  {
   "cell_type": "code",
   "execution_count": 10,
   "metadata": {
    "id": "DsBc-M4Mado-"
   },
   "outputs": [],
   "source": [
    "class DQNAgent(CartPoleBase):\n",
    "    def __init__(self, num_episodes=300): # try: num_episodes=3000\n",
    "        \"\"\"DQN Agent on CartPole-v0 environment\n",
    "\n",
    "        Arguments:\n",
    "            num_episodes (int): max number of episodes to train\n",
    "        \"\"\"\n",
    "        CartPoleBase.__init__(self, num_episodes)\n",
    "        \n",
    "        self.action_space = self.env.action_space\n",
    "\n",
    "        # experience buffer\n",
    "        self.memory = []\n",
    "\n",
    "        # discount rate\n",
    "        self.gamma = 0.9\n",
    "\n",
    "        # initially 90% exploration, 10% exploitation\n",
    "        self.epsilon = 1.0\n",
    "        # iteratively applying decay til \n",
    "        # 10% exploration/90% exploitation\n",
    "        self.epsilon_min = 0.1\n",
    "        self.epsilon_decay = self.epsilon_min / self.epsilon\n",
    "        self.epsilon_decay = self.epsilon_decay ** (1. / float(500))\n",
    "\n",
    "        # Q Network weights filename\n",
    "        self.weights_file = 'dqn_cartpole.h5'\n",
    "        # Q Network for training\n",
    "        n_inputs = self.env.observation_space.shape[0]\n",
    "        n_outputs = self.action_space.n\n",
    "        self.q_model = self.build_model(n_inputs, n_outputs)\n",
    "        self.q_model.compile(loss='mse', optimizer=Adam())\n",
    "        self.q_model.summary()\n",
    "        # target Q Network\n",
    "        self.target_q_model = self.build_model(n_inputs, n_outputs)\n",
    "        # copy Q Network params to target Q Network\n",
    "        self.update_weights()\n",
    "\n",
    "        self.replay_counter = 0\n",
    "\n",
    "    \n",
    "    def build_model(self, n_inputs, n_outputs):\n",
    "        \"\"\"Q Network is 256-256-256 MLP\n",
    "\n",
    "        Arguments:\n",
    "            n_inputs (int): input dim\n",
    "            n_outputs (int): output dim\n",
    "\n",
    "        Return:\n",
    "            q_model (Model): DQN\n",
    "        \"\"\"\n",
    "        inputs = Input(shape=(n_inputs, ), name='state')\n",
    "        x = Dense(256, activation='relu')(inputs)\n",
    "        x = Dense(256, activation='relu')(x)\n",
    "        x = Dense(256, activation='relu')(x)\n",
    "        x = Dense(n_outputs,\n",
    "                  activation='linear', \n",
    "                  name='action')(x)\n",
    "        q_model = Model(inputs, x)\n",
    "        return q_model\n",
    "\n",
    "\n",
    "    def save_weights(self):\n",
    "        \"\"\"save Q Network params to a file\"\"\"\n",
    "        self.q_model.save_weights(self.weights_file)\n",
    "\n",
    "        \n",
    "    def load_weights(self):\n",
    "        \"\"\"load Q Network params to a file\"\"\"\n",
    "        self.q_model.load_weights(self.weights_file)\n",
    "        \n",
    "        \n",
    "    def update_weights(self):\n",
    "        \"\"\"copy trained Q Network params to target Q Network\"\"\"\n",
    "        self.target_q_model.set_weights(self.q_model.get_weights())\n",
    "\n",
    "        \n",
    "    def remember(self, state, action, reward, next_state, done):\n",
    "        \"\"\"store experiences in the replay buffer\n",
    "        Arguments:\n",
    "            state (tensor): env state\n",
    "            action (tensor): agent action\n",
    "            reward (float): reward received after executing\n",
    "                action on state\n",
    "            next_state (tensor): next state\n",
    "        \"\"\"\n",
    "        item = (state, action, reward, next_state, done)\n",
    "        self.memory.append(item)\n",
    "\n",
    "\n",
    "    def get_target_q_value(self, next_state, reward):\n",
    "        \"\"\"compute Q_max\n",
    "           Use of target Q Network solves the \n",
    "            non-stationarity problem\n",
    "        Arguments:\n",
    "            reward (float): reward received after executing\n",
    "                action on state\n",
    "            next_state (tensor): next state\n",
    "        Return:\n",
    "            q_value (float): max Q-value computed\n",
    "        \"\"\"\n",
    "        # max Q value among next state's actions\n",
    "        # DQN chooses the max Q value among next actions\n",
    "        # selection and evaluation of action is \n",
    "        # on the target Q Network\n",
    "        # Q_max = max_a' Q_target(s', a')\n",
    "        q_value = np.amax(\\\n",
    "                     self.target_q_model.predict(next_state)[0])\n",
    "\n",
    "        # Q_max = reward + gamma * Q_max\n",
    "        q_value *= self.gamma\n",
    "        q_value += reward\n",
    "        return q_value\n",
    "\n",
    "\n",
    "    def replay(self, batch_size):\n",
    "        \"\"\"experience replay addresses the correlation issue \n",
    "            between samples\n",
    "        Arguments:\n",
    "            batch_size (int): replay buffer batch \n",
    "                sample size\n",
    "        \"\"\"\n",
    "        # sars = state, action, reward, state' (next_state)\n",
    "        sars_batch = random.sample(self.memory, batch_size)\n",
    "        state_batch, q_values_batch = [], []\n",
    "\n",
    "        # fixme: for speedup, this could be done on the tensor level\n",
    "        # but easier to understand using a loop\n",
    "        for state, action, reward, next_state, done in sars_batch:\n",
    "            # policy prediction for a given state\n",
    "            q_values = self.q_model.predict(state)\n",
    "            \n",
    "            # get Q_max\n",
    "            q_value = self.get_target_q_value(next_state, reward)\n",
    "\n",
    "            # correction on the Q value for the action used\n",
    "            q_values[0][action] = reward if done else q_value\n",
    "\n",
    "            # collect batch state-q_value mapping\n",
    "            state_batch.append(state[0])\n",
    "            q_values_batch.append(q_values[0])\n",
    "\n",
    "        # train the Q-network\n",
    "        self.q_model.fit(np.array(state_batch),\n",
    "                         np.array(q_values_batch),\n",
    "                         batch_size=batch_size,\n",
    "                         epochs=1,\n",
    "                         verbose=0)\n",
    "\n",
    "        # update exploration-exploitation probability\n",
    "        self.update_epsilon()\n",
    "\n",
    "        # copy new params on old target after \n",
    "        # every 10 training updates\n",
    "        if self.replay_counter % 10 == 0:\n",
    "            self.update_weights()\n",
    "\n",
    "        self.replay_counter += 1\n",
    "\n",
    "    \n",
    "    def update_epsilon(self):\n",
    "        \"\"\"decrease the exploration, increase exploitation\"\"\"\n",
    "        if self.epsilon > self.epsilon_min:\n",
    "            self.epsilon *= self.epsilon_decay\n",
    "        \n",
    "        \n",
    "    def train(self):\n",
    "        args = {}\n",
    "        args['env_id'] = 'CartPole-v0'\n",
    "        args['no-render'] = True\n",
    "\n",
    "        # the number of trials without falling over\n",
    "        win_trials = 100\n",
    "\n",
    "        # the CartPole-v0 is considered solved if \n",
    "        # for 100 consecutive trials, he cart pole has not \n",
    "        # fallen over and it has achieved an average \n",
    "        # reward of 195.0 \n",
    "        # a reward of +1 is provided for every timestep \n",
    "        # the pole remains upright\n",
    "        win_reward = { 'CartPole-v0' : 195.0 }\n",
    "\n",
    "        # stores the reward per episode\n",
    "        scores = deque(maxlen=win_trials)\n",
    "\n",
    "        self.env.seed(0)\n",
    "\n",
    "        # should be solved in this number of episodes\n",
    "        episode_count = self.num_episodes\n",
    "        state_size = self.env.observation_space.shape[0]\n",
    "        batch_size = 64\n",
    "\n",
    "        # by default, CartPole-v0 has max episode steps = 200\n",
    "        # you can use this to experiment beyond 200\n",
    "        # env._max_episode_steps = 4000\n",
    "\n",
    "        # Q-Learning sampling and fitting\n",
    "        for episode in range(episode_count):\n",
    "            state = self.env.reset()\n",
    "            state = np.reshape(state, [1, state_size])\n",
    "            done = False\n",
    "            total_reward = 0\n",
    "            while not done:\n",
    "                # in CartPole-v0, action=0 is left and action=1 is right\n",
    "                if np.random.rand() < self.epsilon:\n",
    "                    # explore - do random action\n",
    "                    action = self.action_space.sample()\n",
    "                else:\n",
    "                    # exploit\n",
    "                    q_values = self.q_model.predict(state)\n",
    "                    # select the action with max Q-value\n",
    "                    action = np.argmax(q_values[0])\n",
    "                \n",
    "                next_state, reward, done, _ = self.env.step(action)\n",
    "                # in CartPole-v0:\n",
    "                # state = [pos, vel, theta, angular speed]\n",
    "                next_state = np.reshape(next_state, [1, state_size])\n",
    "                # store every experience unit in replay buffer\n",
    "                self.remember(state, action, reward, next_state, done)\n",
    "                state = next_state\n",
    "                total_reward += reward\n",
    "\n",
    "\n",
    "            # call experience relay\n",
    "            if len(self.memory) >= batch_size:\n",
    "                self.replay(batch_size)\n",
    "\n",
    "            scores.append(total_reward)\n",
    "            mean_score = np.mean(scores)\n",
    "            if mean_score >= win_reward[args['env_id']] \\\n",
    "                    and episode >= win_trials:\n",
    "                print(\"Solved in episode %d: \\\n",
    "                       Mean survival = %0.2lf in %d episodes\"\n",
    "                      % (episode, mean_score, win_trials))\n",
    "                print(\"Epsilon: \", self.epsilon)\n",
    "                self.save_weights()\n",
    "                break\n",
    "            if True: #(episode + 1) % win_trials == 0:\n",
    "                print(\"Episode %d: Mean survival = \\\n",
    "                       %0.2lf in %d episodes\" %\n",
    "                      ((episode + 1), mean_score, win_trials))\n",
    "                sys.stdout.flush()\n",
    "\n",
    "        # close the env and write monitor result info to disk\n",
    "        self.env.close() \n",
    "        \n",
    "        \n",
    "    def act(self, observation, reward, done):\n",
    "        \"\"\"\n",
    "        An deep Q-learning based agent.\n",
    "        \n",
    "        Arguments (everything the simulator provides): \n",
    "            observation: the observed state (Cart Position, Cart Velocity, Pole Angle, \n",
    "                         Pole Angular Velocity)\n",
    "            reward:      1 for every step taken\n",
    "            done:        true if simulation terminated\n",
    "    \n",
    "        Return:\n",
    "            0 to push cart to the left, 1 to push cart to the right\n",
    "        \"\"\"\n",
    "        state_size = self.env.observation_space.shape[0]\n",
    "        state = np.reshape(observation, [1, state_size])\n",
    "        q_values = self.q_model.predict(state)\n",
    "        # select the action with max Q-value\n",
    "        action = np.argmax(q_values[0])\n",
    "        return action"
   ]
  },
  {
   "cell_type": "code",
   "execution_count": 11,
   "metadata": {
    "colab": {
     "base_uri": "https://localhost:8080/"
    },
    "id": "SYfd2K6Wado_",
    "outputId": "0870ab86-fe33-4edb-ba03-7f70d7224999"
   },
   "outputs": [
    {
     "name": "stdout",
     "output_type": "stream",
     "text": [
      "Model: \"model\"\n",
      "_________________________________________________________________\n",
      "Layer (type)                 Output Shape              Param #   \n",
      "=================================================================\n",
      "state (InputLayer)           [(None, 4)]               0         \n",
      "_________________________________________________________________\n",
      "dense (Dense)                (None, 256)               1280      \n",
      "_________________________________________________________________\n",
      "dense_1 (Dense)              (None, 256)               65792     \n",
      "_________________________________________________________________\n",
      "dense_2 (Dense)              (None, 256)               65792     \n",
      "_________________________________________________________________\n",
      "action (Dense)               (None, 2)                 514       \n",
      "=================================================================\n",
      "Total params: 133,378\n",
      "Trainable params: 133,378\n",
      "Non-trainable params: 0\n",
      "_________________________________________________________________\n"
     ]
    }
   ],
   "source": [
    "dqnagent = DQNAgent()\n",
    "dqnagent.train()"
   ]
  },
  {
   "cell_type": "code",
   "execution_count": null,
   "metadata": {
    "id": "Tj8WYH2piBq2"
   },
   "outputs": [],
   "source": [
    "dqnagent.load_weights()\n",
    "dqnagent.update_weights()\n",
    "steps_taken = dqnagent.run()\n",
    "print('Finished after %d steps.' % steps_taken)"
   ]
  },
  {
   "cell_type": "code",
   "execution_count": null,
   "metadata": {},
   "outputs": [],
   "source": []
  }
 ],
 "metadata": {
  "accelerator": "GPU",
  "colab": {
   "collapsed_sections": [],
   "name": "MP_Assignment7_solution.ipynb",
   "provenance": [],
   "toc_visible": true
  },
  "kernelspec": {
   "display_name": "Python 3 (ipykernel)",
   "language": "python",
   "name": "python3"
  },
  "language_info": {
   "codemirror_mode": {
    "name": "ipython",
    "version": 3
   },
   "file_extension": ".py",
   "mimetype": "text/x-python",
   "name": "python",
   "nbconvert_exporter": "python",
   "pygments_lexer": "ipython3",
   "version": "3.7.11"
  }
 },
 "nbformat": 4,
 "nbformat_minor": 1
}
